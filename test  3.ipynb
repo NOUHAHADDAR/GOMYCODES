import numpy as np


grades = np.array([85, 90, 88, 92, 95, 80, 75, 98, 89, 83])


mean_grade = np.mean(grades)
median_grade = np.median(grades)
std_dev = np.std(grades)


max_grade = np.max(grades)
min_grade = np.min(grades)


sorted_grades = np.sort(grades)


index_max_grade = np.argmax(grades)


count_above_90 = np.sum(grades > 90)


percent_above_90 = np.mean(grades > 90) * 100


percent_below_75 = np.mean(grades < 75) * 100


high_performers = grades[grades > 90]


passing_grades = grades[grades > 75]


print(f"Grades: {grades}")
print(f"Mean grade: {mean_grade}")
print(f"Median grade: {median_grade}")
print(f"Standard deviation: {std_dev}")
print(f"Maximum grade: {max_grade}")
print(f"Minimum grade: {min_grade}")
print(f"Sorted grades: {sorted_grades}")
print(f"Index of highest grade: {index_max_grade}")
print(f"Number of students scoring above 90: {count_above_90}")
print(f"Percentage scoring above 90: {percent_above_90:.2f}%")
print(f"Percentage scoring below 75: {percent_below_75:.2f}%")
print(f"High performers (grades above 90): {high_performers}")
print(f"Passing grades (above 75): {passing_grades}")
