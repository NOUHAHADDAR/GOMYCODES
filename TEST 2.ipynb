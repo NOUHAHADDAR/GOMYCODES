import random

print("Welcome to the Guess the Number game!")
print("I'm thinking of a number between 1 and 100. Can you guess what it is?")

# Generate a random number between 1 and 100
secret_number = random.randint(1, 100)

while True:
    guess = input("Enter your guess: ")  
    guess = int(guess)                    

    if guess > secret_number:
        print("Your guess is too high. Guess again.")
    elif guess < secret_number:
        print("Your guess is too low. Guess again.")
    else:
        print("Congratulations! You guessed the number correctly!")
        break
